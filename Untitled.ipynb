{
 "cells": [
  {
   "cell_type": "code",
   "execution_count": 1,
   "id": "7fce4629",
   "metadata": {},
   "outputs": [
    {
     "name": "stdout",
     "output_type": "stream",
     "text": [
      "Requirement already satisfied: SpeechRecognition in d:\\anaconda\\lib\\site-packages (3.8.1)\n",
      "Note: you may need to restart the kernel to use updated packages.\n"
     ]
    }
   ],
   "source": [
    "pip install SpeechRecognition"
   ]
  },
  {
   "cell_type": "code",
   "execution_count": 2,
   "id": "aac19536",
   "metadata": {},
   "outputs": [
    {
     "name": "stdout",
     "output_type": "stream",
     "text": [
      "Requirement already satisfied: pyttsx3 in d:\\anaconda\\lib\\site-packages (2.90)\n",
      "Requirement already satisfied: comtypes in d:\\anaconda\\lib\\site-packages (from pyttsx3) (1.1.10)\n",
      "Requirement already satisfied: pypiwin32 in d:\\anaconda\\lib\\site-packages (from pyttsx3) (223)\n",
      "Requirement already satisfied: pywin32 in d:\\anaconda\\lib\\site-packages (from pyttsx3) (302)\n",
      "Note: you may need to restart the kernel to use updated packages.\n"
     ]
    }
   ],
   "source": [
    "pip install pyttsx3"
   ]
  },
  {
   "cell_type": "code",
   "execution_count": 3,
   "id": "638ed78b",
   "metadata": {},
   "outputs": [
    {
     "name": "stdout",
     "output_type": "stream",
     "text": [
      "Requirement already satisfied: pywhatkit in d:\\anaconda\\lib\\site-packages (5.4)\n",
      "Requirement already satisfied: pyautogui in d:\\anaconda\\lib\\site-packages (from pywhatkit) (0.9.53)\n",
      "Requirement already satisfied: wikipedia in d:\\anaconda\\lib\\site-packages (from pywhatkit) (1.4.0)\n",
      "Requirement already satisfied: requests in d:\\anaconda\\lib\\site-packages (from pywhatkit) (2.27.1)\n",
      "Requirement already satisfied: Flask in d:\\anaconda\\lib\\site-packages (from pywhatkit) (1.1.2)\n",
      "Requirement already satisfied: Pillow in d:\\anaconda\\lib\\site-packages (from pywhatkit) (9.0.1)\n",
      "Requirement already satisfied: Werkzeug>=0.15 in d:\\anaconda\\lib\\site-packages (from Flask->pywhatkit) (2.0.3)\n",
      "Requirement already satisfied: click>=5.1 in d:\\anaconda\\lib\\site-packages (from Flask->pywhatkit) (8.0.4)\n",
      "Requirement already satisfied: Jinja2>=2.10.1 in d:\\anaconda\\lib\\site-packages (from Flask->pywhatkit) (2.11.3)\n",
      "Requirement already satisfied: itsdangerous>=0.24 in d:\\anaconda\\lib\\site-packages (from Flask->pywhatkit) (2.0.1)\n",
      "Requirement already satisfied: colorama in d:\\anaconda\\lib\\site-packages (from click>=5.1->Flask->pywhatkit) (0.4.4)\n",
      "Requirement already satisfied: MarkupSafe>=0.23 in d:\\anaconda\\lib\\site-packages (from Jinja2>=2.10.1->Flask->pywhatkit) (2.0.1)\n",
      "Requirement already satisfied: mouseinfo in d:\\anaconda\\lib\\site-packages (from pyautogui->pywhatkit) (0.1.3)\n",
      "Requirement already satisfied: pygetwindow>=0.0.5 in d:\\anaconda\\lib\\site-packages (from pyautogui->pywhatkit) (0.0.9)\n",
      "Requirement already satisfied: PyTweening>=1.0.1 in d:\\anaconda\\lib\\site-packages (from pyautogui->pywhatkit) (1.0.4)\n",
      "Requirement already satisfied: pyscreeze>=0.1.21 in d:\\anaconda\\lib\\site-packages (from pyautogui->pywhatkit) (0.1.28)\n",
      "Requirement already satisfied: pymsgbox in d:\\anaconda\\lib\\site-packages (from pyautogui->pywhatkit) (1.0.9)\n",
      "Requirement already satisfied: pyrect in d:\\anaconda\\lib\\site-packages (from pygetwindow>=0.0.5->pyautogui->pywhatkit) (0.2.0)\n",
      "Requirement already satisfied: pyperclip in d:\\anaconda\\lib\\site-packages (from mouseinfo->pyautogui->pywhatkit) (1.8.2)\n",
      "Requirement already satisfied: idna<4,>=2.5 in d:\\anaconda\\lib\\site-packages (from requests->pywhatkit) (3.3)\n",
      "Requirement already satisfied: charset-normalizer~=2.0.0 in d:\\anaconda\\lib\\site-packages (from requests->pywhatkit) (2.0.4)\n",
      "Requirement already satisfied: certifi>=2017.4.17 in d:\\anaconda\\lib\\site-packages (from requests->pywhatkit) (2021.10.8)\n",
      "Requirement already satisfied: urllib3<1.27,>=1.21.1 in d:\\anaconda\\lib\\site-packages (from requests->pywhatkit) (1.26.9)\n",
      "Requirement already satisfied: beautifulsoup4 in d:\\anaconda\\lib\\site-packages (from wikipedia->pywhatkit) (4.11.1)\n",
      "Requirement already satisfied: soupsieve>1.2 in d:\\anaconda\\lib\\site-packages (from beautifulsoup4->wikipedia->pywhatkit) (2.3.1)\n",
      "Note: you may need to restart the kernel to use updated packages.\n"
     ]
    }
   ],
   "source": [
    "pip install pywhatkit"
   ]
  },
  {
   "cell_type": "code",
   "execution_count": 4,
   "id": "de58ecf9",
   "metadata": {},
   "outputs": [
    {
     "name": "stdout",
     "output_type": "stream",
     "text": [
      "Requirement already satisfied: PyAudio in d:\\anaconda\\lib\\site-packages (0.2.12)\n",
      "Note: you may need to restart the kernel to use updated packages.\n"
     ]
    }
   ],
   "source": [
    "pip install PyAudio"
   ]
  },
  {
   "cell_type": "code",
   "execution_count": 5,
   "id": "e5117b88",
   "metadata": {},
   "outputs": [
    {
     "name": "stdout",
     "output_type": "stream",
     "text": [
      "Note: you may need to restart the kernel to use updated packages.\n"
     ]
    },
    {
     "name": "stderr",
     "output_type": "stream",
     "text": [
      "ERROR: Could not find a version that satisfies the requirement pyjokbes (from versions: none)\n",
      "ERROR: No matching distribution found for pyjokbes\n"
     ]
    }
   ],
   "source": [
    "pip install pyjokbes"
   ]
  },
  {
   "cell_type": "code",
   "execution_count": 1,
   "id": "60716daf",
   "metadata": {},
   "outputs": [],
   "source": [
    "import speech_recognition as sr\n",
    "import pyttsx3\n",
    "import pywhatkit\n",
    "import datetime\n",
    "import pyjokes\n",
    "import webbrowser"
   ]
  },
  {
   "cell_type": "code",
   "execution_count": 17,
   "id": "d3911ace",
   "metadata": {},
   "outputs": [
    {
     "name": "stdout",
     "output_type": "stream",
     "text": [
      "Listening...\n"
     ]
    },
    {
     "ename": "UnknownValueError",
     "evalue": "",
     "output_type": "error",
     "traceback": [
      "\u001b[1;31m---------------------------------------------------------------------------\u001b[0m",
      "\u001b[1;31mUnknownValueError\u001b[0m                         Traceback (most recent call last)",
      "Input \u001b[1;32mIn [17]\u001b[0m, in \u001b[0;36m<cell line: 97>\u001b[1;34m()\u001b[0m\n\u001b[0;32m     95\u001b[0m     \u001b[38;5;28;01melse\u001b[39;00m:\n\u001b[0;32m     96\u001b[0m         talk(\u001b[38;5;124m'\u001b[39m\u001b[38;5;124mPlease say the command again\u001b[39m\u001b[38;5;124m'\u001b[39m)\n\u001b[1;32m---> 97\u001b[0m \u001b[43mrun_alexa\u001b[49m\u001b[43m(\u001b[49m\u001b[43m)\u001b[49m\n",
      "Input \u001b[1;32mIn [17]\u001b[0m, in \u001b[0;36mrun_alexa\u001b[1;34m()\u001b[0m\n\u001b[0;32m     27\u001b[0m \u001b[38;5;28;01mdef\u001b[39;00m \u001b[38;5;21mrun_alexa\u001b[39m():\n\u001b[1;32m---> 28\u001b[0m     command \u001b[38;5;241m=\u001b[39m \u001b[43mtake_command\u001b[49m\u001b[43m(\u001b[49m\u001b[43m)\u001b[49m\n\u001b[0;32m     29\u001b[0m     \u001b[38;5;28mprint\u001b[39m(command)\n\u001b[0;32m     31\u001b[0m     \u001b[38;5;28;01mif\u001b[39;00m \u001b[38;5;124m'\u001b[39m\u001b[38;5;124mplay\u001b[39m\u001b[38;5;124m'\u001b[39m \u001b[38;5;129;01min\u001b[39;00m command:\n",
      "Input \u001b[1;32mIn [17]\u001b[0m, in \u001b[0;36mtake_command\u001b[1;34m()\u001b[0m\n\u001b[0;32m     17\u001b[0m \u001b[38;5;28mprint\u001b[39m(\u001b[38;5;124m'\u001b[39m\u001b[38;5;124mListening...\u001b[39m\u001b[38;5;124m'\u001b[39m)\n\u001b[0;32m     18\u001b[0m voice \u001b[38;5;241m=\u001b[39m listener\u001b[38;5;241m.\u001b[39mlisten(source)\n\u001b[1;32m---> 19\u001b[0m command \u001b[38;5;241m=\u001b[39m \u001b[43mlistener\u001b[49m\u001b[38;5;241;43m.\u001b[39;49m\u001b[43mrecognize_google\u001b[49m\u001b[43m(\u001b[49m\u001b[43mvoice\u001b[49m\u001b[43m)\u001b[49m\n\u001b[0;32m     20\u001b[0m command \u001b[38;5;241m=\u001b[39m command\u001b[38;5;241m.\u001b[39mlower()\n\u001b[0;32m     21\u001b[0m \u001b[38;5;28mprint\u001b[39m(command)\n",
      "File \u001b[1;32mD:\\anaconda\\lib\\site-packages\\speech_recognition\\__init__.py:858\u001b[0m, in \u001b[0;36mRecognizer.recognize_google\u001b[1;34m(self, audio_data, key, language, show_all)\u001b[0m\n\u001b[0;32m    856\u001b[0m \u001b[38;5;66;03m# return results\u001b[39;00m\n\u001b[0;32m    857\u001b[0m \u001b[38;5;28;01mif\u001b[39;00m show_all: \u001b[38;5;28;01mreturn\u001b[39;00m actual_result\n\u001b[1;32m--> 858\u001b[0m \u001b[38;5;28;01mif\u001b[39;00m \u001b[38;5;129;01mnot\u001b[39;00m \u001b[38;5;28misinstance\u001b[39m(actual_result, \u001b[38;5;28mdict\u001b[39m) \u001b[38;5;129;01mor\u001b[39;00m \u001b[38;5;28mlen\u001b[39m(actual_result\u001b[38;5;241m.\u001b[39mget(\u001b[38;5;124m\"\u001b[39m\u001b[38;5;124malternative\u001b[39m\u001b[38;5;124m\"\u001b[39m, [])) \u001b[38;5;241m==\u001b[39m \u001b[38;5;241m0\u001b[39m: \u001b[38;5;28;01mraise\u001b[39;00m UnknownValueError()\n\u001b[0;32m    860\u001b[0m \u001b[38;5;28;01mif\u001b[39;00m \u001b[38;5;124m\"\u001b[39m\u001b[38;5;124mconfidence\u001b[39m\u001b[38;5;124m\"\u001b[39m \u001b[38;5;129;01min\u001b[39;00m actual_result[\u001b[38;5;124m\"\u001b[39m\u001b[38;5;124malternative\u001b[39m\u001b[38;5;124m\"\u001b[39m]:\n\u001b[0;32m    861\u001b[0m     \u001b[38;5;66;03m# return alternative with highest confidence score\u001b[39;00m\n\u001b[0;32m    862\u001b[0m     best_hypothesis \u001b[38;5;241m=\u001b[39m \u001b[38;5;28mmax\u001b[39m(actual_result[\u001b[38;5;124m\"\u001b[39m\u001b[38;5;124malternative\u001b[39m\u001b[38;5;124m\"\u001b[39m], key\u001b[38;5;241m=\u001b[39m\u001b[38;5;28;01mlambda\u001b[39;00m alternative: alternative[\u001b[38;5;124m\"\u001b[39m\u001b[38;5;124mconfidence\u001b[39m\u001b[38;5;124m\"\u001b[39m])\n",
      "\u001b[1;31mUnknownValueError\u001b[0m: "
     ]
    }
   ],
   "source": [
    "listener = sr.Recognizer()\n",
    "\n",
    "engine = pyttsx3.init()\n",
    "rate = engine.getProperty('rate')\n",
    "engine.setProperty('rate',130)\n",
    "voices = engine.getProperty('voices')\n",
    "engine.setProperty('voice', voices[1].id)\n",
    "\n",
    "def talk(text):\n",
    "    engine.say(text)\n",
    "    engine.runAndWait()\n",
    "def take_command():\n",
    "    try:\n",
    "        with sr.Microphone() as source:\n",
    "            listener.energy_threshold=10000\n",
    "            listener.adjust_for_ambient_noise(source,1.2)\n",
    "            print('Listening...')\n",
    "            voice = listener.listen(source)\n",
    "            command = listener.recognize_google(voice)\n",
    "            command = command.lower()\n",
    "            print(command)\n",
    "    except LookupError:\n",
    "        print(\"COULD NOT UNDERSTAND AUDIO\")\n",
    "    return command\n",
    "\n",
    "\n",
    "def run_alexa():\n",
    "    command = take_command()\n",
    "    print(command)\n",
    "\n",
    "    if 'play' in command:\n",
    "        song = command.replace('play', '')\n",
    "        talk('playing' + song)\n",
    "        pywhatkit.playonyt(song)\n",
    "\n",
    "    elif 'search' in command:\n",
    "        search=command.replace('search','')\n",
    "        talk('searching'+ search)\n",
    "        pywhatkit.search(search)\n",
    "\n",
    "    elif 'date' in command:\n",
    "        date = datetime.date.today()\n",
    "        print(date)\n",
    "        talk('CURRENT DATE IS ' + str(date))\n",
    "\n",
    "    elif 'time' in command:\n",
    "        time = datetime.datetime.now().strftime('%H:%M:%S')\n",
    "        print(time)\n",
    "        talk('CURRENT TIME IS ' + time)\n",
    "\n",
    "    elif 'are you single' in command:\n",
    "        talk('I AM IN RELATIONSHIP WITH YOU')\n",
    "\n",
    "    elif 'hello' in command:\n",
    "        talk('HELLO, HOW MAY I HELP YOU')\n",
    "\n",
    "    elif 'owner' in command:\n",
    "        talk('BABLOO')\n",
    "\n",
    "    elif 'joke' in command:\n",
    "        talk(pyjokes.get_joke())\n",
    "\n",
    "    elif 'instagram' in command:\n",
    "        url = \"https://www.instagram.com/\"\n",
    "        webbrowser.get().open(url)\n",
    "        talk(\"opening instagram\")\n",
    "\n",
    "    elif 'facebook' in command:\n",
    "        url = \"https://Facebook.com/\"\n",
    "        webbrowser.get().open(url)\n",
    "        talk(\"opening Facebook\")\n",
    "\n",
    "    elif 'mail' in command:\n",
    "        url = \"https://mail.google.com/mail/u/0/\"\n",
    "        webbrowser.get().open(url)\n",
    "        talk(\"opening Mail\")\n",
    "\n",
    "    elif 'twitter' in command:\n",
    "        url = \"https://twitter.com/\"\n",
    "        webbrowser.get().open(url)\n",
    "        talk(\"opening twitter\")\n",
    "\n",
    "    elif 'prime minister' in command:\n",
    "        talk('MR.NARINDER MODI')\n",
    "\n",
    "    elif 'amazon' in command:\n",
    "        url = \"https://www.amazon.in\"\n",
    "        webbrowser.get().open(url)\n",
    "        talk(\"opening amazon\")\n",
    "\n",
    "    elif 'weather' in command:\n",
    "        url = \"https://www.google.com/search?q=weather&rlz=1C1CHBF_enIN945IN945&oq=whea&aqs=chrome.1.69i57j0i10i131i433j46i67j0i67j46i67j0i10i433j46i67l3j0i10i131i433.3456j1j7&sourceid=chrome&ie=UTF-8/\"\n",
    "        webbrowser.get().open(url)\n",
    "        talk(\"Here is what I found for on google\")\n",
    "    else:\n",
    "        talk('Please say the command again')\n",
    "run_alexa()"
   ]
  },
  {
   "cell_type": "code",
   "execution_count": null,
   "id": "b736c5a9",
   "metadata": {},
   "outputs": [],
   "source": []
  },
  {
   "cell_type": "code",
   "execution_count": null,
   "id": "3a617992",
   "metadata": {},
   "outputs": [],
   "source": []
  }
 ],
 "metadata": {
  "kernelspec": {
   "display_name": "Python 3 (ipykernel)",
   "language": "python",
   "name": "python3"
  },
  "language_info": {
   "codemirror_mode": {
    "name": "ipython",
    "version": 3
   },
   "file_extension": ".py",
   "mimetype": "text/x-python",
   "name": "python",
   "nbconvert_exporter": "python",
   "pygments_lexer": "ipython3",
   "version": "3.9.12"
  }
 },
 "nbformat": 4,
 "nbformat_minor": 5
}
